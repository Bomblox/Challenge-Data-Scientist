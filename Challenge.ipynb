{
 "cells": [
  {
   "cell_type": "markdown",
   "id": "4561a443",
   "metadata": {},
   "source": [
    "## Challenge:\n",
    "\n",
    "The problem consists in predicting the probability of delay of the flights that land or take off from the airport of Santiago de Chile\n",
    "(SCL). For that you will have a dataset using public and real data where each row corresponds to a flight that landed or took off\n",
    "from SCL during 2017. The following information is available for each flight:\n",
    "\n",
    "* **Fecha-I**: Scheduled date and time of the flight.  \n",
    "* **Vlo-I**: Scheduled flight number.  \n",
    "* **Ori-I**: Programmed origin city code.  \n",
    "* **Des-I**: Programmed destination city code.  \n",
    "* **Emp-I**: Scheduled flight airline code.  \n",
    "* **Fecha-O**: Date and time of flight operation.  \n",
    "* **Vlo-O**: Flight operation number of the flight.  \n",
    "* **Ori-O**: Operation origin city code  \n",
    "* **Des-O**: Operation destination city code.  \n",
    "* **Emp-O**: Airline code of the operated flight.  \n",
    "* **DIA**: Day of the month of flight operation.  \n",
    "* **MES**: Number of the month of operation of the flight.  \n",
    "* **AÑO**: Year of flight operation.  \n",
    "* **DIANOM**: Day of the week of flight operation.  \n",
    "* **TIPOVUELO**: Type of flight, I =International, N =National.  \n",
    "* **OPERA**: Name of the airline that operates.  \n",
    "* **SIGLAORI**: Name city of origin.  \n",
    "* **SIGLADES**: Destination city name.  \n"
   ]
  },
  {
   "cell_type": "code",
   "execution_count": 5,
   "id": "0ecd3de6",
   "metadata": {},
   "outputs": [],
   "source": [
    "#Lirerias útiles\n",
    "import pandas as pd\n",
    "import numpy as np\n",
    "import matplotlib.pyplot as plt\n",
    "import seaborn as sns\n",
    "import missingno as msng\n",
    "import warnings\n",
    "warnings.filterwarnings('ignore')"
   ]
  },
  {
   "cell_type": "code",
   "execution_count": 6,
   "id": "ebb07bab",
   "metadata": {},
   "outputs": [],
   "source": [
    "df = pd.read_csv('dataset_SCL.csv')"
   ]
  },
  {
   "cell_type": "code",
   "execution_count": 8,
   "id": "027c81a4",
   "metadata": {},
   "outputs": [
    {
     "name": "stdout",
     "output_type": "stream",
     "text": [
      "<class 'pandas.core.frame.DataFrame'>\n",
      "RangeIndex: 68206 entries, 0 to 68205\n",
      "Data columns (total 18 columns):\n",
      " #   Column     Non-Null Count  Dtype \n",
      "---  ------     --------------  ----- \n",
      " 0   Fecha-I    68206 non-null  object\n",
      " 1   Vlo-I      68206 non-null  object\n",
      " 2   Ori-I      68206 non-null  object\n",
      " 3   Des-I      68206 non-null  object\n",
      " 4   Emp-I      68206 non-null  object\n",
      " 5   Fecha-O    68206 non-null  object\n",
      " 6   Vlo-O      68205 non-null  object\n",
      " 7   Ori-O      68206 non-null  object\n",
      " 8   Des-O      68206 non-null  object\n",
      " 9   Emp-O      68206 non-null  object\n",
      " 10  DIA        68206 non-null  int64 \n",
      " 11  MES        68206 non-null  int64 \n",
      " 12  AÑO        68206 non-null  int64 \n",
      " 13  DIANOM     68206 non-null  object\n",
      " 14  TIPOVUELO  68206 non-null  object\n",
      " 15  OPERA      68206 non-null  object\n",
      " 16  SIGLAORI   68206 non-null  object\n",
      " 17  SIGLADES   68206 non-null  object\n",
      "dtypes: int64(3), object(15)\n",
      "memory usage: 9.4+ MB\n"
     ]
    }
   ],
   "source": [
    "df.info()"
   ]
  },
  {
   "cell_type": "code",
   "execution_count": 9,
   "id": "39fc21a8",
   "metadata": {},
   "outputs": [
    {
     "data": {
      "text/html": [
       "<div>\n",
       "<style scoped>\n",
       "    .dataframe tbody tr th:only-of-type {\n",
       "        vertical-align: middle;\n",
       "    }\n",
       "\n",
       "    .dataframe tbody tr th {\n",
       "        vertical-align: top;\n",
       "    }\n",
       "\n",
       "    .dataframe thead th {\n",
       "        text-align: right;\n",
       "    }\n",
       "</style>\n",
       "<table border=\"1\" class=\"dataframe\">\n",
       "  <thead>\n",
       "    <tr style=\"text-align: right;\">\n",
       "      <th></th>\n",
       "      <th>DIA</th>\n",
       "      <th>MES</th>\n",
       "      <th>AÑO</th>\n",
       "    </tr>\n",
       "  </thead>\n",
       "  <tbody>\n",
       "    <tr>\n",
       "      <th>count</th>\n",
       "      <td>68206.000000</td>\n",
       "      <td>68206.000000</td>\n",
       "      <td>68206.000000</td>\n",
       "    </tr>\n",
       "    <tr>\n",
       "      <th>mean</th>\n",
       "      <td>15.714790</td>\n",
       "      <td>6.622585</td>\n",
       "      <td>2017.000029</td>\n",
       "    </tr>\n",
       "    <tr>\n",
       "      <th>std</th>\n",
       "      <td>8.782886</td>\n",
       "      <td>3.523321</td>\n",
       "      <td>0.005415</td>\n",
       "    </tr>\n",
       "    <tr>\n",
       "      <th>min</th>\n",
       "      <td>1.000000</td>\n",
       "      <td>1.000000</td>\n",
       "      <td>2017.000000</td>\n",
       "    </tr>\n",
       "    <tr>\n",
       "      <th>25%</th>\n",
       "      <td>8.000000</td>\n",
       "      <td>3.000000</td>\n",
       "      <td>2017.000000</td>\n",
       "    </tr>\n",
       "    <tr>\n",
       "      <th>50%</th>\n",
       "      <td>16.000000</td>\n",
       "      <td>7.000000</td>\n",
       "      <td>2017.000000</td>\n",
       "    </tr>\n",
       "    <tr>\n",
       "      <th>75%</th>\n",
       "      <td>23.000000</td>\n",
       "      <td>10.000000</td>\n",
       "      <td>2017.000000</td>\n",
       "    </tr>\n",
       "    <tr>\n",
       "      <th>max</th>\n",
       "      <td>31.000000</td>\n",
       "      <td>12.000000</td>\n",
       "      <td>2018.000000</td>\n",
       "    </tr>\n",
       "  </tbody>\n",
       "</table>\n",
       "</div>"
      ],
      "text/plain": [
       "                DIA           MES           AÑO\n",
       "count  68206.000000  68206.000000  68206.000000\n",
       "mean      15.714790      6.622585   2017.000029\n",
       "std        8.782886      3.523321      0.005415\n",
       "min        1.000000      1.000000   2017.000000\n",
       "25%        8.000000      3.000000   2017.000000\n",
       "50%       16.000000      7.000000   2017.000000\n",
       "75%       23.000000     10.000000   2017.000000\n",
       "max       31.000000     12.000000   2018.000000"
      ]
     },
     "execution_count": 9,
     "metadata": {},
     "output_type": "execute_result"
    }
   ],
   "source": [
    "df.describe()"
   ]
  },
  {
   "cell_type": "markdown",
   "id": "3c0ed794",
   "metadata": {},
   "source": [
    "1. How is the data distributed? Did you find any noteworthy insight to share? What can you conclude about this?"
   ]
  },
  {
   "cell_type": "code",
   "execution_count": null,
   "id": "4ac43a20",
   "metadata": {},
   "outputs": [],
   "source": []
  },
  {
   "cell_type": "markdown",
   "id": "8017747d",
   "metadata": {},
   "source": [
    "2. Generate the following additional columns. Please export them to a CSV file named synthetic_features.csv:   "
   ]
  },
  {
   "cell_type": "markdown",
   "id": "416bd0a9",
   "metadata": {},
   "source": [
    "* high_season : 1 if Date-I is between Dec-15 and Mar-3, or Jul-15 and Jul-31, or Sep-11 and Sep-30, 0 otherwise."
   ]
  },
  {
   "cell_type": "code",
   "execution_count": 30,
   "id": "c844ec50",
   "metadata": {},
   "outputs": [],
   "source": [
    "from datetime import datetime\n",
    "\n",
    "def high_season(fecha):\n",
    "    fecha_año = int(fecha.split('-')[0])\n",
    "    fecha = datetime.strptime(fecha, '%Y-%m-%d %H:%M:%S')\n",
    "    range1_min = datetime.strptime('15-Dec', '%d-%b').replace(year = fecha_año)\n",
    "    range1_max = datetime.strptime('31-Dec', '%d-%b').replace(year = fecha_año)\n",
    "    range2_min = datetime.strptime('1-Jan', '%d-%b').replace(year = fecha_año)\n",
    "    range2_max = datetime.strptime('3-Mar', '%d-%b').replace(year = fecha_año)\n",
    "    range3_min = datetime.strptime('15-Jul', '%d-%b').replace(year = fecha_año)\n",
    "    range3_max = datetime.strptime('31-Jul', '%d-%b').replace(year = fecha_año)\n",
    "    range4_min = datetime.strptime('11-Sep', '%d-%b').replace(year = fecha_año)\n",
    "    range4_max = datetime.strptime('30-Sep', '%d-%b').replace(year = fecha_año)\n",
    "    \n",
    "    if ((fecha >= range1_min and fecha <= range1_max) or \n",
    "        (fecha >= range2_min and fecha <= range2_max) or \n",
    "        (fecha >= range3_min and fecha <= range3_max) or\n",
    "        (fecha >= range4_min and fecha <= range4_max)):\n",
    "        return 1\n",
    "    else:\n",
    "        return 0"
   ]
  },
  {
   "cell_type": "code",
   "execution_count": 31,
   "id": "bf9acd32",
   "metadata": {},
   "outputs": [],
   "source": [
    "df['high_season'] = df['Fecha-I'].apply(high_season)"
   ]
  },
  {
   "cell_type": "code",
   "execution_count": 32,
   "id": "40071692",
   "metadata": {},
   "outputs": [
    {
     "data": {
      "text/plain": [
       "0    46174\n",
       "1    22032\n",
       "Name: high_season, dtype: int64"
      ]
     },
     "execution_count": 32,
     "metadata": {},
     "output_type": "execute_result"
    }
   ],
   "source": [
    "df['high_season'].value_counts()"
   ]
  },
  {
   "cell_type": "markdown",
   "id": "b0c26d03",
   "metadata": {},
   "source": [
    "* min_diff : difference in minutes between Date-O and Date-I ."
   ]
  },
  {
   "cell_type": "code",
   "execution_count": 33,
   "id": "a269ed7a",
   "metadata": {},
   "outputs": [],
   "source": [
    "def min_diff(data):\n",
    "    fecha_o = datetime.strptime(data['Fecha-O'], '%Y-%m-%d %H:%M:%S')\n",
    "    fecha_i = datetime.strptime(data['Fecha-I'], '%Y-%m-%d %H:%M:%S')\n",
    "    dif_min = ((fecha_o - fecha_i).total_seconds())/60\n",
    "    return dif_min"
   ]
  },
  {
   "cell_type": "code",
   "execution_count": 34,
   "id": "298dc910",
   "metadata": {},
   "outputs": [],
   "source": [
    "df['min_diff'] = df.apply(min_diff, axis = 1)"
   ]
  },
  {
   "cell_type": "markdown",
   "id": "f30bc561",
   "metadata": {},
   "source": [
    "* delay_15 : 1 if min_diff > 15, 0 if not."
   ]
  },
  {
   "cell_type": "code",
   "execution_count": 35,
   "id": "5d2a55c9",
   "metadata": {},
   "outputs": [],
   "source": [
    "df['delay_15'] = np.where(df['min_diff'] > 15, 1, 0)"
   ]
  },
  {
   "cell_type": "markdown",
   "id": "c4d6f463",
   "metadata": {},
   "source": [
    "* period_day : morning (between 5:00 and 11:59), afternoon (between 12:00 and 18:59) and night (between 19:00 and 4:59), based onDate-I ."
   ]
  },
  {
   "cell_type": "code",
   "execution_count": 36,
   "id": "6c5e099f",
   "metadata": {},
   "outputs": [],
   "source": [
    "def get_period_day(fecha):\n",
    "    fecha_time = datetime.strptime(fecha, '%Y-%m-%d %H:%M:%S').time()\n",
    "    mañana_min = datetime.strptime(\"05:00\", '%H:%M').time()\n",
    "    mañana_max = datetime.strptime(\"11:59\", '%H:%M').time()\n",
    "    tarde_min = datetime.strptime(\"12:00\", '%H:%M').time()\n",
    "    tarde_max = datetime.strptime(\"18:59\", '%H:%M').time()\n",
    "    noche_min1 = datetime.strptime(\"19:00\", '%H:%M').time()\n",
    "    noche_max1 = datetime.strptime(\"23:59\", '%H:%M').time()\n",
    "    noche_min2 = datetime.strptime(\"00:00\", '%H:%M').time()\n",
    "    noche_max2 = datetime.strptime(\"4:59\", '%H:%M').time()\n",
    "    \n",
    "    if(fecha_time > mañana_min and fecha_time < mañana_max):\n",
    "        return 'mañana'\n",
    "    elif(fecha_time > tarde_min and fecha_time < tarde_max):\n",
    "        return 'tarde'\n",
    "    elif((fecha_time > noche_min1 and fecha_time < noche_max1) or\n",
    "         (fecha_time > noche_min2 and fecha_time < noche_max2)):\n",
    "        return 'noche'"
   ]
  },
  {
   "cell_type": "code",
   "execution_count": 37,
   "id": "20fe069a",
   "metadata": {},
   "outputs": [],
   "source": [
    "df['period_day'] = df['Fecha-I'].apply(get_period_day)"
   ]
  },
  {
   "cell_type": "code",
   "execution_count": 38,
   "id": "7bb5ace7",
   "metadata": {},
   "outputs": [],
   "source": [
    "df[['high_season','min_diff','delay_15','period_day']].to_csv('synthetic_features.csv', index = False)"
   ]
  },
  {
   "cell_type": "markdown",
   "id": "2892fc4f",
   "metadata": {},
   "source": [
    "3. What is the behavior of the delay rate across destination, airline, month of the year, day of the week, season, type of flight? What variables would you expect to have the most influence in predicting delays?"
   ]
  },
  {
   "cell_type": "markdown",
   "id": "26ec8a07",
   "metadata": {},
   "source": [
    "4. Train one or several models (using the algorithm(s) of your choice) to estimate the likelihood of a flight delay. Feel free to generate additional variables and/or supplement with external variables"
   ]
  },
  {
   "cell_type": "markdown",
   "id": "2eeaaf36",
   "metadata": {},
   "source": [
    "5. Evaluate model performance in the predictive task across each model that you trained. Define and justify what metrics you used to assess model performance. Pick the best trained model and evaluate the following: What variables were the most influential in the prediction task? How could you improve the Performance?"
   ]
  },
  {
   "cell_type": "code",
   "execution_count": null,
   "id": "081ec534",
   "metadata": {},
   "outputs": [],
   "source": []
  }
 ],
 "metadata": {
  "kernelspec": {
   "display_name": "Python 3 (ipykernel)",
   "language": "python",
   "name": "python3"
  },
  "language_info": {
   "codemirror_mode": {
    "name": "ipython",
    "version": 3
   },
   "file_extension": ".py",
   "mimetype": "text/x-python",
   "name": "python",
   "nbconvert_exporter": "python",
   "pygments_lexer": "ipython3",
   "version": "3.9.13"
  }
 },
 "nbformat": 4,
 "nbformat_minor": 5
}
